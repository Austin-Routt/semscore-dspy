{
 "cells": [
  {
   "cell_type": "markdown",
   "metadata": {},
   "source": [
    "# SEMSCORE-DSPY"
   ]
  },
  {
   "cell_type": "markdown",
   "metadata": {},
   "source": [
    "<img src=\"logo/SemScore-DSPy-2.svg\" alt=\"SemScore-DSPy Logo\" style=\"width:400px; height:auto;\">\n"
   ]
  },
  {
   "cell_type": "markdown",
   "metadata": {},
   "source": [
    "### Use SemScore Metric"
   ]
  },
  {
   "cell_type": "markdown",
   "metadata": {},
   "source": [
    "#### DSPy"
   ]
  },
  {
   "cell_type": "markdown",
   "metadata": {},
   "source": [
    "#### Pytorch"
   ]
  },
  {
   "cell_type": "markdown",
   "metadata": {},
   "source": [
    "### Validation of SemScore Metric"
   ]
  },
  {
   "cell_type": "markdown",
   "metadata": {},
   "source": [
    "Debug the `SemScoreValidator`"
   ]
  },
  {
   "cell_type": "code",
   "execution_count": 1,
   "metadata": {},
   "outputs": [
    {
     "name": "stdout",
     "output_type": "stream",
     "text": [
      "Successfully loaded reference file\n",
      "Number of models: 2\n",
      "\n",
      "Model: TinyLlama/TinyLlama-1.1B-Chat-v1.0\n",
      "Number of cases: 154\n",
      "First case keys: ['prompt', 'answer_ref', 'answer_pred', 'cosine_sim']\n",
      "\n",
      "Model: models/Mistral-7B-Instruct-v0.2\n",
      "Number of cases: 154\n",
      "First case keys: ['prompt', 'answer_ref', 'answer_pred', 'cosine_sim']\n"
     ]
    }
   ],
   "source": [
    "from semscore.utils.validation import SemScoreValidator\n",
    "validator = SemScoreValidator(reference_file=\"semscore/data/reference/semscores_OA-100.json\")\n",
    "validator.debug_reference_file()"
   ]
  },
  {
   "cell_type": "markdown",
   "metadata": {},
   "source": [
    "Run validation to validate the SemScore metric against a reference: [Link](https://github.com/geronimi73/semscore/blob/main/nb_blog_part1_OA-conversations-results/semscores_OA-100.json).\n",
    "\n",
    "Please see the validation results in the `validation_results` folder."
   ]
  },
  {
   "cell_type": "code",
   "execution_count": 4,
   "metadata": {},
   "outputs": [
    {
     "data": {
      "text/markdown": [
       "\n",
       "# SemScore Validation Report\n",
       "Generated on: 2024-12-21 21:39:34\n",
       "\n",
       "## OpenAssistant Dataset Results\n",
       "\n",
       "### TinyLlama/TinyLlama-1.1B-Chat-v1.0\n",
       "\n",
       "\n",
       "Performance Metrics:\n",
       "- Pearson Correlation: 1.0000\n",
       "- Mean Absolute Difference: 0.0000\n",
       "- Mean Calculated Score: 0.6974\n",
       "- Mean Reference Score: 0.6974\n",
       "\n",
       "Example Cases:\n",
       "| Prompt | Prediction | Reference | Calculated | Expected | Diff |\n",
       "|--------|------------|-----------|------------|-----------|------|\n",
       "| <|user|> Can photoshop be used as a tool to forge ... | Yes, photoshop can be used as a tool to forge docu... | Yes, Photoshop can be used to forge documents due ... | 0.9537 | 0.9537 | 0.0000 |\n",
       "| <|user|> What is the difference between C# and Jav... | Certainly! Here are some key differences between C... | Sure, I can provide you with a comparison between ... | 0.8042 | 0.8042 | 0.0000 |\n",
       "| <|user|> Explain GPIO pins on a raspberry pi pico ... | GPIO (General Purpose Input/Output) pins are used ... | GPIO (General Purpose Input/Output) pins are physi... | 0.8529 | 0.8529 | 0.0000 |\n",
       "\n",
       "### models/Mistral-7B-Instruct-v0.2\n",
       "\n",
       "\n",
       "Performance Metrics:\n",
       "- Pearson Correlation: 1.0000\n",
       "- Mean Absolute Difference: 0.0000\n",
       "- Mean Calculated Score: 0.7372\n",
       "- Mean Reference Score: 0.7372\n",
       "\n",
       "Example Cases:\n",
       "| Prompt | Prediction | Reference | Calculated | Expected | Diff |\n",
       "|--------|------------|-----------|------------|-----------|------|\n",
       "| <s>[INST] Can photoshop be used as a tool to forge... | Yes, Adobe Photoshop and similar image editing sof... | Yes, Photoshop can be used to forge documents due ... | 0.8402 | 0.8402 | 0.0000 |\n",
       "| <s>[INST] What is the difference between C# and Ja... | Both C# and Java are popular programming languages... | Sure, I can provide you with a comparison between ... | 0.9332 | 0.9332 | 0.0000 |\n",
       "| <s>[INST] Explain GPIO pins on a raspberry pi pico... | The Raspberry Pi Pico W is a microcontroller board... | GPIO (General Purpose Input/Output) pins are physi... | 0.7874 | 0.7874 | 0.0000 |\n"
      ],
      "text/plain": [
       "<IPython.core.display.Markdown object>"
      ]
     },
     "metadata": {},
     "output_type": "display_data"
    }
   ],
   "source": [
    "from semscore.utils.validation import run_validation\n",
    "from IPython.display import Markdown, display\n",
    "\n",
    "\n",
    "# Run validation with your dataset\n",
    "report = run_validation(\n",
    "    output_dir=\"validation_results\",\n",
    "    reference_file=\"semscore/data/reference/semscores_OA-100.json\"\n",
    ")\n",
    "\n",
    "# The report will be saved to the output directory\n",
    "# and returned as a string\n",
    "display(Markdown(report))"
   ]
  },
  {
   "cell_type": "code",
   "execution_count": 6,
   "metadata": {},
   "outputs": [
    {
     "data": {
      "text/html": [
       "\n",
       "<div style=\"display: flex; justify-content: space-around; align-items: center;\">\n",
       "    <img src=\"validation_results/score_dist_models_Mistral-7B-Instruct-v0.2_calculated_20241221_213932.png\" style=\"width: 45%; margin: 10px;\">\n",
       "    <img src=\"validation_results/score_dist_models_Mistral-7B-Instruct-v0.2_expected_20241221_213932.png\" style=\"width: 45%; margin: 10px;\">\n",
       "</div>\n",
       "<div style=\"display: flex; justify-content: space-around; align-items: center;\">\n",
       "    <img src=\"validation_results/score_dist_TinyLlama_TinyLlama-1.1B-Chat-v1.0_calculated_20241221_213932.png\" style=\"width: 45%; margin: 10px;\">\n",
       "    <img src=\"validation_results/score_dist_TinyLlama_TinyLlama-1.1B-Chat-v1.0_expected_20241221_213932.png\" style=\"width: 45%; margin: 10px;\">\n",
       "</div>\n"
      ],
      "text/plain": [
       "<IPython.core.display.HTML object>"
      ]
     },
     "metadata": {},
     "output_type": "display_data"
    }
   ],
   "source": [
    "from IPython.core.display import HTML\n",
    "\n",
    "# HTML template for displaying images side by side\n",
    "html_template = \"\"\"\n",
    "<div style=\"display: flex; justify-content: space-around; align-items: center;\">\n",
    "    <img src=\"{path1}\" style=\"width: 45%; margin: 10px;\">\n",
    "    <img src=\"{path2}\" style=\"width: 45%; margin: 10px;\">\n",
    "</div>\n",
    "<div style=\"display: flex; justify-content: space-around; align-items: center;\">\n",
    "    <img src=\"{path3}\" style=\"width: 45%; margin: 10px;\">\n",
    "    <img src=\"{path4}\" style=\"width: 45%; margin: 10px;\">\n",
    "</div>\n",
    "\"\"\"\n",
    "\n",
    "display(HTML(html_template.format(\n",
    "    path1=\"validation_results/score_dist_models_Mistral-7B-Instruct-v0.2_calculated_20241221_213932.png\",\n",
    "    path2=\"validation_results/score_dist_models_Mistral-7B-Instruct-v0.2_expected_20241221_213932.png\",\n",
    "    path3=\"validation_results/score_dist_TinyLlama_TinyLlama-1.1B-Chat-v1.0_calculated_20241221_213932.png\",\n",
    "    path4=\"validation_results/score_dist_TinyLlama_TinyLlama-1.1B-Chat-v1.0_expected_20241221_213932.png\"\n",
    ")))\n"
   ]
  },
  {
   "cell_type": "markdown",
   "metadata": {},
   "source": [
    "Given the report and the histograms, it is fair to say that the SemScore metric produces the same calulated output as the reference implementation. "
   ]
  },
  {
   "cell_type": "markdown",
   "metadata": {},
   "source": [
    "### Characterization of SemScore Metric"
   ]
  },
  {
   "cell_type": "code",
   "execution_count": null,
   "metadata": {},
   "outputs": [],
   "source": []
  }
 ],
 "metadata": {
  "kernelspec": {
   "display_name": "brandi",
   "language": "python",
   "name": "python3"
  },
  "language_info": {
   "codemirror_mode": {
    "name": "ipython",
    "version": 3
   },
   "file_extension": ".py",
   "mimetype": "text/x-python",
   "name": "python",
   "nbconvert_exporter": "python",
   "pygments_lexer": "ipython3",
   "version": "3.12.3"
  }
 },
 "nbformat": 4,
 "nbformat_minor": 2
}
