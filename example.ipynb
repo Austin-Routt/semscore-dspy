{
 "cells": [
  {
   "cell_type": "code",
   "execution_count": 1,
   "metadata": {},
   "outputs": [
    {
     "name": "stdout",
     "output_type": "stream",
     "text": [
      "Successfully loaded reference file\n",
      "Number of models: 2\n",
      "\n",
      "Model: TinyLlama/TinyLlama-1.1B-Chat-v1.0\n",
      "Number of cases: 154\n",
      "First case keys: ['prompt', 'answer_ref', 'answer_pred', 'cosine_sim']\n",
      "\n",
      "Model: models/Mistral-7B-Instruct-v0.2\n",
      "Number of cases: 154\n",
      "First case keys: ['prompt', 'answer_ref', 'answer_pred', 'cosine_sim']\n"
     ]
    }
   ],
   "source": [
    "from semscore.utils.validation import SemScoreValidator\n",
    "validator = SemScoreValidator(reference_file=\"semscore/data/reference/semscores_OA-100.json\")\n",
    "validator.debug_reference_file()"
   ]
  },
  {
   "cell_type": "code",
   "execution_count": 2,
   "metadata": {},
   "outputs": [
    {
     "name": "stdout",
     "output_type": "stream",
     "text": [
      "\n",
      "# SemScore Validation Report\n",
      "Generated on: 2024-12-21 19:25:37\n",
      "\n",
      "## OpenAssistant Dataset Results\n",
      "\n",
      "### TinyLlama/TinyLlama-1.1B-Chat-v1.0\n",
      "\n",
      "\n",
      "Performance Metrics:\n",
      "- Pearson Correlation: 1.0000\n",
      "- Mean Absolute Difference: 0.0000\n",
      "- Mean Calculated Score: 0.6974\n",
      "- Mean Reference Score: 0.6974\n",
      "\n",
      "Example Cases:\n",
      "| Prompt | Prediction | Reference | Calculated | Expected | Diff |\n",
      "|--------|------------|-----------|------------|-----------|------|\n",
      "| <|user|> Can photoshop be used as a tool to forge ... | Yes, photoshop can be used as a tool to forge docu... | Yes, Photoshop can be used to forge documents due ... | 0.9537 | 0.9537 | 0.0000 |\n",
      "| <|user|> What is the difference between C# and Jav... | Certainly! Here are some key differences between C... | Sure, I can provide you with a comparison between ... | 0.8042 | 0.8042 | 0.0000 |\n",
      "| <|user|> Explain GPIO pins on a raspberry pi pico ... | GPIO (General Purpose Input/Output) pins are used ... | GPIO (General Purpose Input/Output) pins are physi... | 0.8529 | 0.8529 | 0.0000 |\n",
      "\n",
      "### models/Mistral-7B-Instruct-v0.2\n",
      "\n",
      "\n",
      "Performance Metrics:\n",
      "- Pearson Correlation: 1.0000\n",
      "- Mean Absolute Difference: 0.0000\n",
      "- Mean Calculated Score: 0.7372\n",
      "- Mean Reference Score: 0.7372\n",
      "\n",
      "Example Cases:\n",
      "| Prompt | Prediction | Reference | Calculated | Expected | Diff |\n",
      "|--------|------------|-----------|------------|-----------|------|\n",
      "| <s>[INST] Can photoshop be used as a tool to forge... | Yes, Adobe Photoshop and similar image editing sof... | Yes, Photoshop can be used to forge documents due ... | 0.8402 | 0.8402 | 0.0000 |\n",
      "| <s>[INST] What is the difference between C# and Ja... | Both C# and Java are popular programming languages... | Sure, I can provide you with a comparison between ... | 0.9332 | 0.9332 | 0.0000 |\n",
      "| <s>[INST] Explain GPIO pins on a raspberry pi pico... | The Raspberry Pi Pico W is a microcontroller board... | GPIO (General Purpose Input/Output) pins are physi... | 0.7874 | 0.7874 | 0.0000 |\n",
      "\n"
     ]
    }
   ],
   "source": [
    "from semscore.utils.validation import run_validation\n",
    "\n",
    "# Run validation with your dataset\n",
    "report = run_validation(\n",
    "    output_dir=\"validation_results\",\n",
    "    reference_file=\"semscore/data/reference/semscores_OA-100.json\"\n",
    ")\n",
    "\n",
    "# The report will be saved to the output directory\n",
    "# and returned as a string\n",
    "print(report)"
   ]
  },
  {
   "cell_type": "code",
   "execution_count": null,
   "metadata": {},
   "outputs": [],
   "source": []
  }
 ],
 "metadata": {
  "kernelspec": {
   "display_name": "brandi",
   "language": "python",
   "name": "python3"
  },
  "language_info": {
   "codemirror_mode": {
    "name": "ipython",
    "version": 3
   },
   "file_extension": ".py",
   "mimetype": "text/x-python",
   "name": "python",
   "nbconvert_exporter": "python",
   "pygments_lexer": "ipython3",
   "version": "3.12.3"
  }
 },
 "nbformat": 4,
 "nbformat_minor": 2
}
